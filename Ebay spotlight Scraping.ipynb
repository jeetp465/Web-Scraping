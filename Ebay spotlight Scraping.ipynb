{
 "cells": [
  {
   "cell_type": "code",
   "execution_count": 1,
   "id": "41dfa388",
   "metadata": {},
   "outputs": [],
   "source": [
    "import requests\n",
    "from bs4 import BeautifulSoup"
   ]
  },
  {
   "cell_type": "code",
   "execution_count": 2,
   "id": "4e12cb9b",
   "metadata": {},
   "outputs": [],
   "source": [
    "# Using the get method from requests library to pull the webpage\n",
    "url = \"https://www.ebay.com/deals\"\n",
    "page = requests.get(url)"
   ]
  },
  {
   "cell_type": "code",
   "execution_count": 3,
   "id": "ba91e28a",
   "metadata": {},
   "outputs": [],
   "source": [
    "# Parsing the content of the retrieved page via html parser of Beautiful Soup\n",
    "soup = BeautifulSoup(page.content, \"html.parser\")"
   ]
  },
  {
   "cell_type": "code",
   "execution_count": 4,
   "id": "b31dfef6",
   "metadata": {},
   "outputs": [],
   "source": [
    "# The spotlight deal is wrapped inside the tag span.ebayui-dne-summary-card__wrapper \n",
    "# The tag has remained consistent across a period of 3 days. Hence we have decided to \n",
    "# fetch the spotlight deal using the above tag\n",
    "\n",
    "spotlight_object = soup.find(\"div\", class_=\"ebayui-dne-summary-card__wrapper\")"
   ]
  },
  {
   "cell_type": "code",
   "execution_count": 5,
   "id": "937bffb8",
   "metadata": {
    "collapsed": true
   },
   "outputs": [
    {
     "name": "stdout",
     "output_type": "stream",
     "text": [
      "<div class=\"ebayui-dne-summary-card__wrapper\">\n",
      " <!--F#4-->\n",
      " <div class=\"dne-itemtile dne-itemtile-xlarge\" data-listing-id=\"254187678666\" itemscope=\"itemscope\" itemtype=\"https://schema.org/Product\">\n",
      "  <a aria-hidden=\"true\" href=\"https://www.ebay.com/itm/254187678666?_trkparms=5373%3A0%7C5374%3AFeatured\" itemprop=\"url\" tabindex=\"-1\">\n",
      "   <div class=\"dne-itemtile-imagewrapper\">\n",
      "    <div class=\"slashui-image-cntr\">\n",
      "     <img alt=\"\" aria-hidden=\"true\" src=\"https://i.ebayimg.com/images/g/3RgAAOSwj~Rh6YA7/s-l400.jpg\"/>\n",
      "    </div>\n",
      "   </div>\n",
      "  </a>\n",
      "  <div class=\"dne-itemtile-detail\">\n",
      "   <a href=\"https://www.ebay.com/itm/254187678666?_trkparms=5373%3A0%7C5374%3AFeatured\" itemprop=\"url\">\n",
      "    <h3 class=\"dne-itemtile-title ellipse-3\" title=\"Apple iPhone XR 64GB Unlocked Smartphone - Very Good Refurb\">\n",
      "     <span>\n",
      "      <span class=\"ebayui-ellipsis-3\" itemprop=\"name\">\n",
      "       Apple iPhone XR 64GB Unlocked Smartphone - Very Good Refurb\n",
      "      </span>\n",
      "     </span>\n",
      "    </h3>\n",
      "   </a>\n",
      "   <div class=\"dne-itemtile-price\" itemprop=\"offers\" itemscope=\"itemscope\" itemtype=\"http://schema.org/Offer\">\n",
      "    <meta content=\"USD\" itemprop=\"priceCurrency\"/>\n",
      "    <span class=\"first\" itemprop=\"price\">\n",
      "     $264.99\n",
      "    </span>\n",
      "    <span content=\"https://schema.org/InStock\" itemprop=\"availability\">\n",
      "    </span>\n",
      "   </div>\n",
      "   <div class=\"dne-itemtile-original-price\">\n",
      "    <span aria-hidden=\"true\">\n",
      "     <!--F#9[0]-->\n",
      "     <span class=\"itemtile-price-strikethrough\">\n",
      "      $749.99\n",
      "     </span>\n",
      "     <!--F/-->\n",
      "     <!--F#9[1]-->\n",
      "     <span aria-hidden=\"true\" class=\"itemtile-price-default\">\n",
      "      |\n",
      "     </span>\n",
      "     <!--F/-->\n",
      "     <!--F#9[2]-->\n",
      "     <span class=\"itemtile-price-bold\">\n",
      "      65% off\n",
      "     </span>\n",
      "     <!--F/-->\n",
      "    </span>\n",
      "    <span class=\"clipped\">\n",
      "     Previous price: $749.99 65% off\n",
      "    </span>\n",
      "   </div>\n",
      "   <span>\n",
      "    <!--F#9[0]-->\n",
      "    <span class=\"dne-itemtile-delivery\">\n",
      "     Free shipping\n",
      "    </span>\n",
      "    <!--F/-->\n",
      "   </span>\n",
      "   <span>\n",
      "    <!--F#9[0]-->\n",
      "    <span class=\"dne-itemcard-hotness itemcard-hotness-red\">\n",
      "     Almost gone\n",
      "    </span>\n",
      "    <!--F/-->\n",
      "   </span>\n",
      "  </div>\n",
      "  <div aria-hidden=\"true\" class=\"dne-itemcard-hotness-icon icon-deals-hotness\">\n",
      "  </div>\n",
      " </div>\n",
      " <!--F/-->\n",
      "</div>\n"
     ]
    }
   ],
   "source": [
    "# Raw html output of the spotlight object\n",
    "\n",
    "print(spotlight_object.prettify())"
   ]
  },
  {
   "cell_type": "code",
   "execution_count": 6,
   "id": "2e9ddf35",
   "metadata": {},
   "outputs": [
    {
     "name": "stdout",
     "output_type": "stream",
     "text": [
      "Apple iPhone XR 64GB Unlocked Smartphone - Very Good Refurb\n"
     ]
    }
   ],
   "source": [
    "# The product name is associated with the tag span.ebayui-ellipsis-3. \n",
    "# The tag has remained consistent across a period of 3 days. Hence we have decided to \n",
    "# fetch the product name using the above tag\n",
    "\n",
    "product_name = spotlight_object.find(\"span\", class_=\"ebayui-ellipsis-3\")\n",
    "print(product_name.text)"
   ]
  },
  {
   "cell_type": "code",
   "execution_count": 7,
   "id": "b7c2cbca",
   "metadata": {},
   "outputs": [
    {
     "name": "stdout",
     "output_type": "stream",
     "text": [
      "The Spotlight Deal Price for the product Apple iPhone XR 64GB Unlocked Smartphone - Very Good Refurb is $264.99\n"
     ]
    }
   ],
   "source": [
    "# The spotlight deal price is associated with the tag \"span.first\"\n",
    "# The tag has remained consistent across a period of 3 days. Hence we have decided to \n",
    "# fetch the spotlight deal price using the above tag\n",
    "\n",
    "deal_price = spotlight_object.find(\"span\", class_=\"first\")\n",
    "print(\"The Spotlight Deal Price for the product {} is {}\".format(product_name.text, deal_price.text))"
   ]
  },
  {
   "cell_type": "code",
   "execution_count": 8,
   "id": "03cace6c",
   "metadata": {},
   "outputs": [
    {
     "name": "stdout",
     "output_type": "stream",
     "text": [
      "The Original Price for the product Apple iPhone XR 64GB Unlocked Smartphone - Very Good Refurb is $749.99 \n"
     ]
    }
   ],
   "source": [
    "# The original price of the product is associated with the tag \"span.itemtile-price-strikethrough\"\n",
    "# The tag has remained consistent across a period of 3 days. Hence we have decided to \n",
    "# fetch the original price of the product using the above tag\n",
    "\n",
    "orig_price = spotlight_object.find(\"span\", class_=\"itemtile-price-strikethrough\")\n",
    "print(\"The Original Price for the product {} is {}\".format(product_name.text, orig_price.text))"
   ]
  },
  {
   "cell_type": "code",
   "execution_count": null,
   "id": "d73eb0d8",
   "metadata": {},
   "outputs": [],
   "source": [
    "# The discount offered on the product is associated with the tag \"span.itemtile-price-bold\"\n",
    "# The tag has remained consistent across a period of 3 days. Hence we have decided to \n",
    "# fetch the offered discount on the product using the above tag\n",
    "\n",
    "disc_pct = spotlight_object.find(\"span\", class_=\"itemtile-price-bold\")\n",
    "print(\"The discount for the product {} is {}\".format(product_name.text, disc_pct.text))"
   ]
  }
 ],
 "metadata": {
  "kernelspec": {
   "display_name": "Python 3 (ipykernel)",
   "language": "python",
   "name": "python3"
  },
  "language_info": {
   "codemirror_mode": {
    "name": "ipython",
    "version": 3
   },
   "file_extension": ".py",
   "mimetype": "text/x-python",
   "name": "python",
   "nbconvert_exporter": "python",
   "pygments_lexer": "ipython3",
   "version": "3.9.7"
  }
 },
 "nbformat": 4,
 "nbformat_minor": 5
}
